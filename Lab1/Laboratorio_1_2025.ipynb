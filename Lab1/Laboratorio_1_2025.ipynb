{
 "cells": [
  {
   "cell_type": "markdown",
   "metadata": {
    "id": "-CnSaU7yuHuo"
   },
   "source": [
    "# Laboratorio 1: Exploración y Visualización de Datos\n",
    "\n",
    "Integrantes: Lucas Poblete, Benjamin Alcaino\n"
   ]
  },
  {
   "cell_type": "markdown",
   "metadata": {
    "id": "DAB7Kb-fuwH4"
   },
   "source": [
    "## Instrucciones\n",
    "\n",
    "1.  Trabajen en equipos de dos personas. Salvo excepciones, no se corregirá entregas con menos de dos integrantes.\n",
    "\n",
    "2.  Modifique este archivo `.ipynb` agregando sus respuestas donde corresponda.\n",
    "\n",
    "3.  Para cada pregunta **incluya el código fuente que utilizó para llegar a su respuesta. Respuestas sin código no recibirán puntaje.**.\n",
    "\n",
    "4.  El formato de entrega para esta actividad es un archivo **html**. **Genere un archivo HTML usando Jupyter** y súbalo a U-Cursos. Basta con que un/a integrante haga la entrega. Si ambos/as hacen una entrega en U-Cursos, se revisará cualquiera de éstas.\n",
    "\n",
    "\n",
    "#### **Se recomienda fuertemente que no usen ChatGPT para resolver la actividad, ya que la experiencia de aprendizaje es mucho mayor si lo hacen por su cuenta.**"
   ]
  },
  {
   "cell_type": "markdown",
   "metadata": {
    "id": "nyO8FDUqPYEF"
   },
   "source": [
    "## Pongamonos en situación"
   ]
  },
  {
   "cell_type": "markdown",
   "metadata": {
    "id": "zm7XGdfrPYEH"
   },
   "source": [
    "Eres un **cientifico de datos** que trabaja en **Netflix**.\n",
    "\n",
    "En los últimos años ha **crecido la cantidad usuarios que ven anime** en la plataforma, por lo que el equipo de contenido de Netflix ha decidido invertir en la producción de series de anime.\n",
    "\n",
    "Tu jefe te ha pedido que **realices un análisis de los datos de las series de anime** para entender mejor el mercado y poder tomar decisiones informadas."
   ]
  },
  {
   "cell_type": "markdown",
   "metadata": {
    "id": "Q9ssMcp0PYEI"
   },
   "source": [
    "## Datos"
   ]
  },
  {
   "cell_type": "markdown",
   "metadata": {
    "id": "aOoASC9ywZ3D"
   },
   "source": [
    "Para realizar esta tarea, te han entregado un dataset con información de animes de la página **MyAnimeList** (MAL).\n",
    "\n",
    "FUENTE: https://www.kaggle.com/datasets/azathoth42/myanimelist\n",
    "\n",
    "Tenemos 2 archivos:\n",
    "- `anime.csv`: Contiene 6 atributos: \"title\", \"type\", \"source\", \"episodes\", \"airing\" y \"studio\", que corresponden a información sobre el anime.\n",
    "- `anime-stats.csv`: Contiene 4 atributos: \"title\", \"score\", \"members\" (número de usuarios que tienen el anime en su lista) y \"favorites\", que corresponden a estadísticas sobre la popularidad de cada anime."
   ]
  },
  {
   "cell_type": "code",
   "execution_count": 1,
   "metadata": {
    "id": "xyQGRN44ws0n"
   },
   "outputs": [],
   "source": [
    "import pandas as pd\n",
    "import matplotlib.pyplot as plt"
   ]
  },
  {
   "cell_type": "markdown",
   "metadata": {
    "id": "LAurvYuGPYEO"
   },
   "source": [
    "Para que la siguiente celda funcione, los archivos CSV deben estar en la misma carpeta que este notebook."
   ]
  },
  {
   "cell_type": "code",
   "execution_count": 2,
   "metadata": {
    "id": "ltDQGTy2wnpL"
   },
   "outputs": [],
   "source": [
    "df_anime = pd.read_csv('anime.csv', encoding=\"UTF-8\")\n",
    "df_stats = pd.read_csv('anime-stats.csv', encoding=\"UTF-8\")"
   ]
  },
  {
   "cell_type": "markdown",
   "metadata": {
    "id": "b8jdCwYhwyOV"
   },
   "source": [
    "También puedes cargarlos remotamente de un repositorio usando el link a los archivos:\n"
   ]
  },
  {
   "cell_type": "code",
   "execution_count": 3,
   "metadata": {
    "id": "2_8H7ZEJwx7O"
   },
   "outputs": [],
   "source": [
    "# df_anime = pd.read_csv('https://raw.githubusercontent.com/bacchus00/cositas/main/anime.csv', encoding=\"UTF-8\")\n",
    "# df_stats = pd.read_csv('https://raw.githubusercontent.com/bacchus00/cositas/main/anime-stats.csv', encoding=\"UTF-8\")"
   ]
  },
  {
   "cell_type": "markdown",
   "metadata": {
    "id": "0wVQrAf3PYES"
   },
   "source": [
    "Cualquiera de estas 2 formas es válida para cargar los datos."
   ]
  },
  {
   "cell_type": "markdown",
   "metadata": {
    "id": "uHNVPuI4xN1W"
   },
   "source": [
    "## Exploración básica\n"
   ]
  },
  {
   "cell_type": "markdown",
   "metadata": {
    "id": "H-BY_Nl1PYEU"
   },
   "source": [
    "Para hacernos una idea de como se ven los datos, lo más usual es mostrar los primeros registros de cada dataset."
   ]
  },
  {
   "cell_type": "markdown",
   "metadata": {
    "id": "N031NwOSPYEU"
   },
   "source": [
    "1. Muestre los primeros 5 registros de cada dataset."
   ]
  },
  {
   "cell_type": "code",
   "execution_count": 4,
   "metadata": {},
   "outputs": [
    {
     "data": {
      "text/html": [
       "<div>\n",
       "<style scoped>\n",
       "    .dataframe tbody tr th:only-of-type {\n",
       "        vertical-align: middle;\n",
       "    }\n",
       "\n",
       "    .dataframe tbody tr th {\n",
       "        vertical-align: top;\n",
       "    }\n",
       "\n",
       "    .dataframe thead th {\n",
       "        text-align: right;\n",
       "    }\n",
       "</style>\n",
       "<table border=\"1\" class=\"dataframe\">\n",
       "  <thead>\n",
       "    <tr style=\"text-align: right;\">\n",
       "      <th></th>\n",
       "      <th>title</th>\n",
       "      <th>type</th>\n",
       "      <th>source</th>\n",
       "      <th>episodes</th>\n",
       "      <th>airing</th>\n",
       "      <th>studio</th>\n",
       "    </tr>\n",
       "  </thead>\n",
       "  <tbody>\n",
       "    <tr>\n",
       "      <th>0</th>\n",
       "      <td>Inu x Boku SS</td>\n",
       "      <td>TV</td>\n",
       "      <td>Manga</td>\n",
       "      <td>12</td>\n",
       "      <td>False</td>\n",
       "      <td>David Production</td>\n",
       "    </tr>\n",
       "    <tr>\n",
       "      <th>1</th>\n",
       "      <td>Seto no Hanayome</td>\n",
       "      <td>TV</td>\n",
       "      <td>Manga</td>\n",
       "      <td>26</td>\n",
       "      <td>False</td>\n",
       "      <td>Gonzo</td>\n",
       "    </tr>\n",
       "    <tr>\n",
       "      <th>2</th>\n",
       "      <td>Shugo Chara!! Doki</td>\n",
       "      <td>TV</td>\n",
       "      <td>Manga</td>\n",
       "      <td>51</td>\n",
       "      <td>False</td>\n",
       "      <td>Satelight</td>\n",
       "    </tr>\n",
       "    <tr>\n",
       "      <th>3</th>\n",
       "      <td>Princess Tutu</td>\n",
       "      <td>TV</td>\n",
       "      <td>Original</td>\n",
       "      <td>38</td>\n",
       "      <td>False</td>\n",
       "      <td>Hal Film Maker</td>\n",
       "    </tr>\n",
       "    <tr>\n",
       "      <th>4</th>\n",
       "      <td>Bakuman. 3rd Season</td>\n",
       "      <td>TV</td>\n",
       "      <td>Manga</td>\n",
       "      <td>25</td>\n",
       "      <td>False</td>\n",
       "      <td>J.C.Staff</td>\n",
       "    </tr>\n",
       "  </tbody>\n",
       "</table>\n",
       "</div>"
      ],
      "text/plain": [
       "                 title type    source  episodes  airing            studio\n",
       "0        Inu x Boku SS   TV     Manga        12   False  David Production\n",
       "1     Seto no Hanayome   TV     Manga        26   False             Gonzo\n",
       "2   Shugo Chara!! Doki   TV     Manga        51   False         Satelight\n",
       "3        Princess Tutu   TV  Original        38   False    Hal Film Maker\n",
       "4  Bakuman. 3rd Season   TV     Manga        25   False         J.C.Staff"
      ]
     },
     "execution_count": 4,
     "metadata": {},
     "output_type": "execute_result"
    }
   ],
   "source": [
    "df_anime.head()"
   ]
  },
  {
   "cell_type": "code",
   "execution_count": 5,
   "metadata": {
    "id": "G0N9XBRKPYEV"
   },
   "outputs": [
    {
     "data": {
      "text/html": [
       "<div>\n",
       "<style scoped>\n",
       "    .dataframe tbody tr th:only-of-type {\n",
       "        vertical-align: middle;\n",
       "    }\n",
       "\n",
       "    .dataframe tbody tr th {\n",
       "        vertical-align: top;\n",
       "    }\n",
       "\n",
       "    .dataframe thead th {\n",
       "        text-align: right;\n",
       "    }\n",
       "</style>\n",
       "<table border=\"1\" class=\"dataframe\">\n",
       "  <thead>\n",
       "    <tr style=\"text-align: right;\">\n",
       "      <th></th>\n",
       "      <th>title</th>\n",
       "      <th>score</th>\n",
       "      <th>members</th>\n",
       "      <th>favorites</th>\n",
       "    </tr>\n",
       "  </thead>\n",
       "  <tbody>\n",
       "    <tr>\n",
       "      <th>0</th>\n",
       "      <td>Inu x Boku SS</td>\n",
       "      <td>7.63</td>\n",
       "      <td>283882</td>\n",
       "      <td>2809</td>\n",
       "    </tr>\n",
       "    <tr>\n",
       "      <th>1</th>\n",
       "      <td>Seto no Hanayome</td>\n",
       "      <td>7.89</td>\n",
       "      <td>204003</td>\n",
       "      <td>2579</td>\n",
       "    </tr>\n",
       "    <tr>\n",
       "      <th>2</th>\n",
       "      <td>Shugo Chara!! Doki</td>\n",
       "      <td>7.55</td>\n",
       "      <td>70127</td>\n",
       "      <td>802</td>\n",
       "    </tr>\n",
       "    <tr>\n",
       "      <th>3</th>\n",
       "      <td>Princess Tutu</td>\n",
       "      <td>8.21</td>\n",
       "      <td>93312</td>\n",
       "      <td>3344</td>\n",
       "    </tr>\n",
       "    <tr>\n",
       "      <th>4</th>\n",
       "      <td>Bakuman. 3rd Season</td>\n",
       "      <td>8.67</td>\n",
       "      <td>182765</td>\n",
       "      <td>2082</td>\n",
       "    </tr>\n",
       "  </tbody>\n",
       "</table>\n",
       "</div>"
      ],
      "text/plain": [
       "                 title  score  members  favorites\n",
       "0        Inu x Boku SS   7.63   283882       2809\n",
       "1     Seto no Hanayome   7.89   204003       2579\n",
       "2   Shugo Chara!! Doki   7.55    70127        802\n",
       "3        Princess Tutu   8.21    93312       3344\n",
       "4  Bakuman. 3rd Season   8.67   182765       2082"
      ]
     },
     "execution_count": 5,
     "metadata": {},
     "output_type": "execute_result"
    }
   ],
   "source": [
    "df_stats.head()"
   ]
  },
  {
   "cell_type": "markdown",
   "metadata": {
    "id": "xztKToKWPYEV"
   },
   "source": [
    "Siempre es útil conocer **cuántos datos y cuántas columnas** tenemos.\n",
    "\n",
    "Esto es importante para poder responder\n",
    "- ¿Tenemos suficientes datos?\n",
    "- ¿Tenemos suficientes columnas?\n",
    "- ¿Será muy caro computacionalmente trabajar con estos datos?"
   ]
  },
  {
   "cell_type": "markdown",
   "metadata": {
    "id": "jdf-XMHsPYEV"
   },
   "source": [
    "2. ¿Cuales son las dimensiones de cada dataset? en otras palabras, ¿cuántas filas y columnas tiene cada uno?"
   ]
  },
  {
   "cell_type": "code",
   "execution_count": 6,
   "metadata": {
    "id": "gA3Uz40QPYEW"
   },
   "outputs": [
    {
     "name": "stdout",
     "output_type": "stream",
     "text": [
      "dimensiones de df_anime: \n"
     ]
    },
    {
     "data": {
      "text/plain": [
       "title       14478\n",
       "type        14478\n",
       "source      14478\n",
       "episodes    14478\n",
       "airing      14478\n",
       "studio       8544\n",
       "dtype: int64"
      ]
     },
     "execution_count": 6,
     "metadata": {},
     "output_type": "execute_result"
    }
   ],
   "source": [
    "print(\"dimensiones de df_anime: \")\n",
    "df_anime.count()"
   ]
  },
  {
   "cell_type": "markdown",
   "metadata": {},
   "source": [
    "Hay $14478$ titulos, por lo que hay $14478$ filas, y hay $6$ atributos (title, type, source, episodes, airing, studio) por lo que hay $6$ columnas."
   ]
  },
  {
   "cell_type": "code",
   "execution_count": 7,
   "metadata": {
    "id": "C2CzzD_vPYEW"
   },
   "outputs": [
    {
     "name": "stdout",
     "output_type": "stream",
     "text": [
      "dimensiones de df_status:\n"
     ]
    },
    {
     "data": {
      "text/plain": [
       "title        14478\n",
       "score        14478\n",
       "members      14478\n",
       "favorites    14478\n",
       "dtype: int64"
      ]
     },
     "execution_count": 7,
     "metadata": {},
     "output_type": "execute_result"
    }
   ],
   "source": [
    "print(\"dimensiones de df_status:\")\n",
    "df_stats.count()"
   ]
  },
  {
   "cell_type": "markdown",
   "metadata": {
    "id": "YM8pZ6Q9PYEW"
   },
   "source": [
    "3. Además de ver algunos registros y las dimensiones, también es útil conocer algunas **estadísticas básicas** de los datos. Usa una función que nos permita **ver las estadísticas básicas** de **todas las columnas**."
   ]
  },
  {
   "cell_type": "code",
   "execution_count": null,
   "metadata": {
    "id": "Mzimgm2KPYEX"
   },
   "outputs": [],
   "source": []
  },
  {
   "cell_type": "code",
   "execution_count": null,
   "metadata": {
    "id": "c3ImsWnLPYEX"
   },
   "outputs": [],
   "source": []
  },
  {
   "cell_type": "markdown",
   "metadata": {
    "id": "09aGGaz9PYEY"
   },
   "source": [
    "## Posibles errores en los datos"
   ]
  },
  {
   "cell_type": "markdown",
   "metadata": {
    "id": "mLg2t5g8PYEY"
   },
   "source": [
    "Al construir los datasets, es posible que se hayan generado **datos duplicados**, ya sea porque alguien ingresó dos veces la misma información, o porque se generó un error en la recolección de datos. Es importante **detectar y decidir qué hacer con estos datos**."
   ]
  },
  {
   "cell_type": "markdown",
   "metadata": {
    "id": "2u883gTnxSe1"
   },
   "source": [
    "4.  ¿Existen filas duplicadas en alguno de los dataframes?\n"
   ]
  },
  {
   "cell_type": "code",
   "execution_count": null,
   "metadata": {
    "id": "oSCqVVHLxc7F"
   },
   "outputs": [],
   "source": []
  },
  {
   "cell_type": "code",
   "execution_count": null,
   "metadata": {
    "id": "lbiWjsayPYEZ"
   },
   "outputs": [],
   "source": []
  },
  {
   "cell_type": "markdown",
   "metadata": {
    "id": "BwJcZAElPYEZ"
   },
   "source": [
    "Otro caso común es que existan **valores nulos** en los datos. Al igual que antes, es importante **identificarlos y decidir qué hacer con ellos**."
   ]
  },
  {
   "cell_type": "markdown",
   "metadata": {
    "id": "txTGpQT7x77U"
   },
   "source": [
    "5.  ¿Hay filas con valores nulos en los dataframes?"
   ]
  },
  {
   "cell_type": "code",
   "execution_count": null,
   "metadata": {
    "id": "-jq9z9Gcx_u-"
   },
   "outputs": [],
   "source": []
  },
  {
   "cell_type": "code",
   "execution_count": null,
   "metadata": {
    "id": "4ipGDVaRPYEa"
   },
   "outputs": [],
   "source": []
  },
  {
   "cell_type": "markdown",
   "metadata": {
    "id": "z88uyyQaPYEa"
   },
   "source": [
    "Consideremos que estamos en la situación en la que **decidimos eliminar los valores nulos**."
   ]
  },
  {
   "cell_type": "markdown",
   "metadata": {
    "id": "Nq4MxtnsPYEb"
   },
   "source": [
    "6. En caso de existir valores nulos, elimine las filas que los contengan. ¿Cuántas filas quedan en cada dataset luego de eliminar los valores nulos?"
   ]
  },
  {
   "cell_type": "code",
   "execution_count": null,
   "metadata": {
    "id": "C3Tq4xmqPYEb"
   },
   "outputs": [],
   "source": []
  },
  {
   "cell_type": "code",
   "execution_count": null,
   "metadata": {
    "id": "RdE_ipyNPYEb"
   },
   "outputs": [],
   "source": []
  },
  {
   "cell_type": "markdown",
   "metadata": {
    "id": "N8mB-040ynfR"
   },
   "source": [
    "## Juntemos nuestros datos\n",
    "\n",
    "Con el objetivo de tener toda la información en un solo dataframe, y así poder responder preguntas más complejas, **unamos ambos dataframes**."
   ]
  },
  {
   "cell_type": "markdown",
   "metadata": {
    "id": "GIwUxEfBPYEd"
   },
   "source": [
    "7. Junte ambos dataframes en uno solo **a través de la columna \"title\"** con un **inner join**, y **muestre los primeros 5 registros** de este nuevo dataframe."
   ]
  },
  {
   "cell_type": "code",
   "execution_count": null,
   "metadata": {
    "id": "UKw7UPFoyvkr"
   },
   "outputs": [],
   "source": []
  },
  {
   "cell_type": "markdown",
   "metadata": {
    "id": "kjH0Q24TPYEo"
   },
   "source": [
    "## Obtengamos información de los datos"
   ]
  },
  {
   "cell_type": "markdown",
   "metadata": {
    "id": "EsCmiI_6PYEp"
   },
   "source": [
    "Ahora tenemos que entender un poco más sobre los datos que tenemos, para que el equipo de contenido pueda tomar decisiones informadas.\n",
    "\n",
    "Para esto, tu jefe te ha solicitado las siguientes tareas:"
   ]
  },
  {
   "cell_type": "markdown",
   "metadata": {
    "id": "NVskluTWyrA0"
   },
   "source": [
    "8. \"Necesitamos saber cuales son los animes más populares.\" Para esto, **entrega los 5 animes con más miembros** (número de usuarios que tienen el anime en su lista)."
   ]
  },
  {
   "cell_type": "code",
   "execution_count": null,
   "metadata": {
    "id": "9u0I_Ip3zT0B"
   },
   "outputs": [],
   "source": []
  },
  {
   "cell_type": "markdown",
   "metadata": {
    "id": "fchx0Kd3PYEq"
   },
   "source": [
    "9. Esta información puede ser muy valiosa para identificar alguna característica en común de los animes más populares. **Realiza una observación de alguna característica en común, o algo relevante, de los 5 animes** obtenidos en la pregunta anterior."
   ]
  },
  {
   "cell_type": "markdown",
   "metadata": {
    "id": "zU4ypkCaPYEr"
   },
   "source": [
    "R:"
   ]
  },
  {
   "cell_type": "markdown",
   "metadata": {
    "id": "VfecebgFzUNT"
   },
   "source": [
    "10. Además de un anime popular, el equipo te dice que quiere hacer un anime de mucha calidad, osea, que sea muy bien evaluado, en particular buscan que tenga un score mayor a 9.0. **Entrega los con score mayor a 9.0**."
   ]
  },
  {
   "cell_type": "code",
   "execution_count": null,
   "metadata": {
    "id": "jSan9NG5PYEs"
   },
   "outputs": [],
   "source": []
  },
  {
   "cell_type": "markdown",
   "metadata": {
    "id": "reoFwP6RzZak"
   },
   "source": [
    "11. Ahora tu equipo desea analizar a la competencia. Para esto **entrega los 5 estudios de anime con mejor score promedio entre sus animes**."
   ]
  },
  {
   "cell_type": "code",
   "execution_count": null,
   "metadata": {
    "id": "ZU3fiC7GzZDy"
   },
   "outputs": [],
   "source": []
  },
  {
   "cell_type": "markdown",
   "metadata": {
    "id": "byjN8fByPYEt"
   },
   "source": [
    "12. Después de que te preguntaran por los animes que tienen mejor score, se te ocurre crear una columna que indique cuales animes son \"buenos\". Para esto, el área de producto te indica que un \"mal\" anime tiene score bajo 4.0, uno \"intermedio\" tiene score entre 4.0 y 8.0, y uno \"bueno\" tiene score sobre 8.0. **Usa el método apply para crear una nueva columna \"quality\" que tenga como valor \"Malo\", \"Intermedio\" o \"Bueno\" según la definición anterior. Luego, muestra los 5 primeros registros**"
   ]
  },
  {
   "cell_type": "code",
   "execution_count": null,
   "metadata": {
    "id": "bqQZfSbbPYEt"
   },
   "outputs": [],
   "source": []
  },
  {
   "cell_type": "markdown",
   "metadata": {
    "id": "Mq6A1U6jPYEt"
   },
   "source": [
    "13. Rodrigo, un miembro del equipo, te dice: \"Si deseamos que la gente nos tenga en sus favoritos, ¿qué tipo de anime deberíamos hacer? Para cada tipo de anime (TV, OVA, Movie, etc) podríamos sumar la cantidad de favoritos, y hacer el tipo de anime que tenga la suma más grande\". Sin embargo, tú te percatas de que **hay un problema con lo que él propone**. ¿Cuál es este problema?"
   ]
  },
  {
   "cell_type": "markdown",
   "metadata": {
    "id": "buxgdOzUPYEu"
   },
   "source": [
    "R: El problema es que puede ganar el tipo con mas animes, y los animes de este tipo pueden no tener mas favortos que otros animes de otros tipos."
   ]
  },
  {
   "cell_type": "markdown",
   "metadata": {
    "id": "ZVxg6JBjPYEu"
   },
   "source": [
    "14. Para mostrarle a Rodrigo el problema con la solución que él propuso, **entrega la cantidad de animes por cada tipo**."
   ]
  },
  {
   "cell_type": "code",
   "execution_count": null,
   "metadata": {
    "id": "Ery5eUccPYEv"
   },
   "outputs": [],
   "source": []
  },
  {
   "cell_type": "markdown",
   "metadata": {
    "id": "n45zk1YVzYNx"
   },
   "source": [
    "15. Tu jefe te dice que tuvo una visión en un sueño, te dice que sabe como hacer el anime más famoso. Quiere hacer un anime de tipo OVA, donde la fuente (columna source) sea Novel. **Entrega las columnas title, members, favorites, y quality de todos los animes que cumplan con estas características**."
   ]
  },
  {
   "cell_type": "code",
   "execution_count": null,
   "metadata": {
    "id": "sy1OmkRBzn0K"
   },
   "outputs": [],
   "source": []
  },
  {
   "cell_type": "markdown",
   "metadata": {
    "id": "H-QaCsPzPYEw"
   },
   "source": [
    "16. Para verificar si tu jefe tiene sueños extraños, o si realmente tiene una visión, **calcula y muestra el promedio de los miembros, el promedio de los favoritos, y la categoría de quality más repetida** de los animes obtenidos en la pregunta anterior."
   ]
  },
  {
   "cell_type": "code",
   "execution_count": null,
   "metadata": {
    "id": "PeAuASNSPYEx"
   },
   "outputs": [],
   "source": []
  },
  {
   "cell_type": "markdown",
   "metadata": {
    "id": "xkbw4vcNRKEg"
   },
   "source": [
    "# Visualicemos los datos"
   ]
  },
  {
   "cell_type": "markdown",
   "metadata": {
    "id": "SUdmMgMYRUhi"
   },
   "source": [
    "17. Muestre el histograma de todas las puntuaciones de animes"
   ]
  },
  {
   "cell_type": "code",
   "execution_count": null,
   "metadata": {
    "id": "TgB3MS58SU7r"
   },
   "outputs": [],
   "source": []
  },
  {
   "cell_type": "markdown",
   "metadata": {
    "id": "tVDvUZK1SUi2"
   },
   "source": [
    "18. Muestre la densidad de puntajes para los principales tipos de anime (TV, OVA, Movie)"
   ]
  },
  {
   "cell_type": "code",
   "execution_count": null,
   "metadata": {
    "id": "MSm5_YoWToLA"
   },
   "outputs": [],
   "source": []
  },
  {
   "cell_type": "markdown",
   "metadata": {
    "id": "CcwK9kniTo_r"
   },
   "source": [
    "19. ¿Cuál tipo de anime es más exitoso? ¿Se está tomando en cuenta la cantidad de animes por tipo al afirmar eso?"
   ]
  },
  {
   "cell_type": "markdown",
   "metadata": {
    "id": "zjyA38rqVBC0"
   },
   "source": [
    "R:"
   ]
  },
  {
   "cell_type": "markdown",
   "metadata": {
    "id": "0AcGLVkczvU1"
   },
   "source": [
    "Y eso es todo por hoy :)\n"
   ]
  },
  {
   "cell_type": "markdown",
   "metadata": {
    "id": "rR_plUgOz2kN"
   },
   "source": [
    "![](https://i.imgur.com/ghKLs78.jpeg)"
   ]
  }
 ],
 "metadata": {
  "colab": {
   "provenance": []
  },
  "kernelspec": {
   "display_name": "Python 3",
   "language": "python",
   "name": "python3"
  },
  "language_info": {
   "codemirror_mode": {
    "name": "ipython",
    "version": 3
   },
   "file_extension": ".py",
   "mimetype": "text/x-python",
   "name": "python",
   "nbconvert_exporter": "python",
   "pygments_lexer": "ipython3",
   "version": "3.11.9"
  }
 },
 "nbformat": 4,
 "nbformat_minor": 0
}

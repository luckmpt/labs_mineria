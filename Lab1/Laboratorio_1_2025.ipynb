{
 "cells": [
  {
   "cell_type": "markdown",
   "metadata": {
    "id": "-CnSaU7yuHuo"
   },
   "source": [
    "# Laboratorio 1: Exploración y Visualización de Datos\n",
    "\n",
    "Integrantes: **AGREGUEN SUS NOMBRES COMPLETOS**\n"
   ]
  },
  {
   "cell_type": "markdown",
   "metadata": {
    "id": "DAB7Kb-fuwH4"
   },
   "source": [
    "## Instrucciones\n",
    "\n",
    "1.  Trabajen en equipos de dos personas. Salvo excepciones, no se corregirá entregas con menos de dos integrantes.\n",
    "\n",
    "2.  Modifique este archivo `.ipynb` agregando sus respuestas donde corresponda.\n",
    "\n",
    "3.  Para cada pregunta **incluya el código fuente que utilizó para llegar a su respuesta. Respuestas sin código no recibirán puntaje.**.\n",
    "\n",
    "4.  El formato de entrega para esta actividad es un archivo **html**. **Genere un archivo HTML usando Jupyter** y súbalo a U-Cursos. Basta con que un/a integrante haga la entrega. Si ambos/as hacen una entrega en U-Cursos, se revisará cualquiera de éstas.\n",
    "\n",
    "\n",
    "#### **Se recomienda fuertemente que no usen ChatGPT para resolver la actividad, ya que la experiencia de aprendizaje es mucho mayor si lo hacen por su cuenta.**"
   ]
  },
  {
   "cell_type": "markdown",
   "metadata": {
    "id": "nyO8FDUqPYEF"
   },
   "source": [
    "## Pongamonos en situación"
   ]
  },
  {
   "cell_type": "markdown",
   "metadata": {
    "id": "zm7XGdfrPYEH"
   },
   "source": [
    "Eres un **cientifico de datos** que trabaja en **Netflix**.\n",
    "\n",
    "En los últimos años ha **crecido la cantidad usuarios que ven anime** en la plataforma, por lo que el equipo de contenido de Netflix ha decidido invertir en la producción de series de anime.\n",
    "\n",
    "Tu jefe te ha pedido que **realices un análisis de los datos de las series de anime** para entender mejor el mercado y poder tomar decisiones informadas."
   ]
  },
  {
   "cell_type": "markdown",
   "metadata": {
    "id": "Q9ssMcp0PYEI"
   },
   "source": [
    "## Datos"
   ]
  },
  {
   "cell_type": "markdown",
   "metadata": {
    "id": "aOoASC9ywZ3D"
   },
   "source": [
    "Para realizar esta tarea, te han entregado un dataset con información de animes de la página **MyAnimeList** (MAL).\n",
    "\n",
    "FUENTE: https://www.kaggle.com/datasets/azathoth42/myanimelist\n",
    "\n",
    "Tenemos 2 archivos:\n",
    "- `anime.csv`: Contiene 6 atributos: \"title\", \"type\", \"source\", \"episodes\", \"airing\" y \"studio\", que corresponden a información sobre el anime.\n",
    "- `anime-stats.csv`: Contiene 4 atributos: \"title\", \"score\", \"members\" (número de usuarios que tienen el anime en su lista) y \"favorites\", que corresponden a estadísticas sobre la popularidad de cada anime."
   ]
  },
  {
   "cell_type": "code",
   "execution_count": 1,
   "metadata": {
    "id": "xyQGRN44ws0n"
   },
   "outputs": [],
   "source": [
    "import pandas as pd\n",
    "import matplotlib.pyplot as plt"
   ]
  },
  {
   "cell_type": "markdown",
   "metadata": {
    "id": "LAurvYuGPYEO"
   },
   "source": [
    "Para que la siguiente celda funcione, los archivos CSV deben estar en la misma carpeta que este notebook."
   ]
  },
  {
   "cell_type": "code",
   "execution_count": 2,
   "metadata": {
    "id": "ltDQGTy2wnpL"
   },
   "outputs": [],
   "source": [
    "df_anime = pd.read_csv('anime.csv', encoding=\"UTF-8\")\n",
    "df_stats = pd.read_csv('anime-stats.csv', encoding=\"UTF-8\")"
   ]
  },
  {
   "cell_type": "markdown",
   "metadata": {
    "id": "b8jdCwYhwyOV"
   },
   "source": [
    "También puedes cargarlos remotamente de un repositorio usando el link a los archivos:\n"
   ]
  },
  {
   "cell_type": "code",
   "execution_count": null,
   "metadata": {
    "id": "2_8H7ZEJwx7O"
   },
   "outputs": [],
   "source": [
    "df_anime = pd.read_csv('https://raw.githubusercontent.com/bacchus00/cositas/main/anime.csv', encoding=\"UTF-8\")\n",
    "df_stats = pd.read_csv('https://raw.githubusercontent.com/bacchus00/cositas/main/anime-stats.csv', encoding=\"UTF-8\")"
   ]
  },
  {
   "cell_type": "markdown",
   "metadata": {
    "id": "0wVQrAf3PYES"
   },
   "source": [
    "Cualquiera de estas 2 formas es válida para cargar los datos."
   ]
  },
  {
   "cell_type": "markdown",
   "metadata": {
    "id": "uHNVPuI4xN1W"
   },
   "source": [
    "## Exploración básica\n"
   ]
  },
  {
   "cell_type": "markdown",
   "metadata": {
    "id": "H-BY_Nl1PYEU"
   },
   "source": [
    "Para hacernos una idea de como se ven los datos, lo más usual es mostrar los primeros registros de cada dataset."
   ]
  },
  {
   "cell_type": "markdown",
   "metadata": {
    "id": "N031NwOSPYEU"
   },
   "source": [
    "1. Muestre los primeros 5 registros de cada dataset."
   ]
  },
  {
   "cell_type": "code",
   "execution_count": 3,
   "metadata": {
    "id": "isqkpRT7PYEU"
   },
   "outputs": [
    {
     "name": "stdout",
     "output_type": "stream",
     "text": [
      "                 title type    source  episodes  airing            studio\n",
      "0        Inu x Boku SS   TV     Manga        12   False  David Production\n",
      "1     Seto no Hanayome   TV     Manga        26   False             Gonzo\n",
      "2   Shugo Chara!! Doki   TV     Manga        51   False         Satelight\n",
      "3        Princess Tutu   TV  Original        38   False    Hal Film Maker\n",
      "4  Bakuman. 3rd Season   TV     Manga        25   False         J.C.Staff\n"
     ]
    }
   ],
   "source": [
    "print(df_anime.head())"
   ]
  },
  {
   "cell_type": "code",
   "execution_count": 4,
   "metadata": {
    "id": "G0N9XBRKPYEV"
   },
   "outputs": [
    {
     "name": "stdout",
     "output_type": "stream",
     "text": [
      "                 title  score  members  favorites\n",
      "0        Inu x Boku SS   7.63   283882       2809\n",
      "1     Seto no Hanayome   7.89   204003       2579\n",
      "2   Shugo Chara!! Doki   7.55    70127        802\n",
      "3        Princess Tutu   8.21    93312       3344\n",
      "4  Bakuman. 3rd Season   8.67   182765       2082\n"
     ]
    }
   ],
   "source": [
    "print(df_stats.head())"
   ]
  },
  {
   "cell_type": "markdown",
   "metadata": {
    "id": "xztKToKWPYEV"
   },
   "source": [
    "Siempre es útil conocer **cuántos datos y cuántas columnas** tenemos.\n",
    "\n",
    "Esto es importante para poder responder\n",
    "- ¿Tenemos suficientes datos?\n",
    "- ¿Tenemos suficientes columnas?\n",
    "- ¿Será muy caro computacionalmente trabajar con estos datos?"
   ]
  },
  {
   "cell_type": "markdown",
   "metadata": {
    "id": "jdf-XMHsPYEV"
   },
   "source": [
    "2. ¿Cuales son las dimensiones de cada dataset? en otras palabras, ¿cuántas filas y columnas tiene cada uno?"
   ]
  },
  {
   "cell_type": "code",
   "execution_count": 5,
   "metadata": {
    "id": "gA3Uz40QPYEW"
   },
   "outputs": [
    {
     "name": "stdout",
     "output_type": "stream",
     "text": [
      "(14478, 6)\n"
     ]
    }
   ],
   "source": [
    "print(df_anime.shape)"
   ]
  },
  {
   "cell_type": "code",
   "execution_count": 6,
   "metadata": {
    "id": "C2CzzD_vPYEW"
   },
   "outputs": [
    {
     "name": "stdout",
     "output_type": "stream",
     "text": [
      "(14478, 4)\n"
     ]
    }
   ],
   "source": [
    "print(df_stats.shape)"
   ]
  },
  {
   "cell_type": "markdown",
   "metadata": {
    "id": "YM8pZ6Q9PYEW"
   },
   "source": [
    "3. Además de ver algunos registros y las dimensiones, también es útil conocer algunas **estadísticas básicas** de los datos. Usa una función que nos permita **ver las estadísticas básicas** de **todas las columnas**."
   ]
  },
  {
   "cell_type": "code",
   "execution_count": 7,
   "metadata": {
    "id": "Mzimgm2KPYEX"
   },
   "outputs": [
    {
     "name": "stdout",
     "output_type": "stream",
     "text": [
      "           episodes\n",
      "count  14478.000000\n",
      "mean      11.308399\n",
      "std       43.443451\n",
      "min        0.000000\n",
      "25%        1.000000\n",
      "50%        1.000000\n",
      "75%       12.000000\n",
      "max     1818.000000\n"
     ]
    }
   ],
   "source": [
    "print(df_anime.describe())"
   ]
  },
  {
   "cell_type": "code",
   "execution_count": 8,
   "metadata": {
    "id": "c3ImsWnLPYEX"
   },
   "outputs": [
    {
     "name": "stdout",
     "output_type": "stream",
     "text": [
      "              score       members      favorites\n",
      "count  14478.000000  1.447800e+04   14478.000000\n",
      "mean       6.142482  2.296640e+04     311.649606\n",
      "std        1.463981  7.498136e+04    2615.554211\n",
      "min        0.000000  0.000000e+00       0.000000\n",
      "25%        5.550000  2.450000e+02       0.000000\n",
      "50%        6.370000  1.679500e+03       2.000000\n",
      "75%        7.060000  1.037900e+04      23.000000\n",
      "max       10.000000  1.456378e+06  106895.000000\n"
     ]
    }
   ],
   "source": [
    "print(df_stats.describe())"
   ]
  },
  {
   "cell_type": "markdown",
   "metadata": {
    "id": "09aGGaz9PYEY"
   },
   "source": [
    "## Posibles errores en los datos"
   ]
  },
  {
   "cell_type": "markdown",
   "metadata": {
    "id": "mLg2t5g8PYEY"
   },
   "source": [
    "Al construir los datasets, es posible que se hayan generado **datos duplicados**, ya sea porque alguien ingresó dos veces la misma información, o porque se generó un error en la recolección de datos. Es importante **detectar y decidir qué hacer con estos datos**."
   ]
  },
  {
   "cell_type": "markdown",
   "metadata": {
    "id": "2u883gTnxSe1"
   },
   "source": [
    "4.  ¿Existen filas duplicadas en alguno de los dataframes?\n"
   ]
  },
  {
   "cell_type": "code",
   "execution_count": 9,
   "metadata": {
    "id": "oSCqVVHLxc7F"
   },
   "outputs": [
    {
     "name": "stdout",
     "output_type": "stream",
     "text": [
      "0\n",
      "No existen datos duplicados\n"
     ]
    }
   ],
   "source": [
    "Duplicados1 = df_anime.duplicated().sum() #No existen datos duplicados\n",
    "print(Duplicados1)\n",
    "print(\"No existen datos duplicados\")"
   ]
  },
  {
   "cell_type": "code",
   "execution_count": 10,
   "metadata": {
    "id": "lbiWjsayPYEZ"
   },
   "outputs": [
    {
     "name": "stdout",
     "output_type": "stream",
     "text": [
      "0\n",
      "No existen datos duplicados\n"
     ]
    }
   ],
   "source": [
    "Duplicados2 = df_stats.duplicated().sum() #No existen datos duplicados\n",
    "print(Duplicados2)\n",
    "print(\"No existen datos duplicados\")"
   ]
  },
  {
   "cell_type": "markdown",
   "metadata": {
    "id": "BwJcZAElPYEZ"
   },
   "source": [
    "Otro caso común es que existan **valores nulos** en los datos. Al igual que antes, es importante **identificarlos y decidir qué hacer con ellos**."
   ]
  },
  {
   "cell_type": "markdown",
   "metadata": {
    "id": "txTGpQT7x77U"
   },
   "source": [
    "5.  ¿Hay filas con valores nulos en los dataframes?"
   ]
  },
  {
   "cell_type": "code",
   "execution_count": 11,
   "metadata": {
    "id": "-jq9z9Gcx_u-"
   },
   "outputs": [
    {
     "name": "stdout",
     "output_type": "stream",
     "text": [
      "title          0\n",
      "type           0\n",
      "source         0\n",
      "episodes       0\n",
      "airing         0\n",
      "studio      5934\n",
      "dtype: int64\n",
      "Existen 5934 datos nulos en studio\n"
     ]
    }
   ],
   "source": [
    "Nulos1 = df_anime.isnull().sum() #Existen 5934 datos nulos en studio\n",
    "print(Nulos1)\n",
    "print(\"Existen 5934 datos nulos en studio\")"
   ]
  },
  {
   "cell_type": "code",
   "execution_count": null,
   "metadata": {
    "id": "4ipGDVaRPYEa"
   },
   "outputs": [],
   "source": [
    "Nulos2 = df_stats.isnull().sum() #No existen datos nulos\n",
    "print(Nulos2)\n",
    "print(\"No existen datos nulos\")"
   ]
  },
  {
   "cell_type": "markdown",
   "metadata": {
    "id": "z88uyyQaPYEa"
   },
   "source": [
    "Consideremos que estamos en la situación en la que **decidimos eliminar los valores nulos**."
   ]
  },
  {
   "cell_type": "markdown",
   "metadata": {
    "id": "Nq4MxtnsPYEb"
   },
   "source": [
    "6. En caso de existir valores nulos, elimine las filas que los contengan. ¿Cuántas filas quedan en cada dataset luego de eliminar los valores nulos?"
   ]
  },
  {
   "cell_type": "code",
   "execution_count": 16,
   "metadata": {
    "id": "C3Tq4xmqPYEb"
   },
   "outputs": [
    {
     "name": "stdout",
     "output_type": "stream",
     "text": [
      "8544\n",
      "Antes eran 14478\n"
     ]
    }
   ],
   "source": [
    "df_eliminar1 = df_anime.dropna() #Antes eran 14478\n",
    "print(df_eliminar1.shape[0])\n",
    "print(\"Antes eran 14478\")"
   ]
  },
  {
   "cell_type": "code",
   "execution_count": 17,
   "metadata": {
    "id": "RdE_ipyNPYEb"
   },
   "outputs": [
    {
     "name": "stdout",
     "output_type": "stream",
     "text": [
      "14478\n",
      "No cambió porque no tiene nulos\n"
     ]
    }
   ],
   "source": [
    "df_eliminar2 = df_stats.dropna() #No cambio porque no tiene nulos\n",
    "print(df_eliminar2.shape[0])\n",
    "print(\"No cambió porque no tiene nulos\")"
   ]
  },
  {
   "cell_type": "markdown",
   "metadata": {
    "id": "N8mB-040ynfR"
   },
   "source": [
    "## Juntemos nuestros datos\n",
    "\n",
    "Con el objetivo de tener toda la información en un solo dataframe, y así poder responder preguntas más complejas, **unamos ambos dataframes**."
   ]
  },
  {
   "cell_type": "markdown",
   "metadata": {
    "id": "GIwUxEfBPYEd"
   },
   "source": [
    "7. Junte ambos dataframes en uno solo **a través de la columna \"title\"** con un **inner join**, y **muestre los primeros 5 registros** de este nuevo dataframe."
   ]
  },
  {
   "cell_type": "code",
   "execution_count": 20,
   "metadata": {
    "id": "UKw7UPFoyvkr"
   },
   "outputs": [
    {
     "name": "stdout",
     "output_type": "stream",
     "text": [
      "                 title type    source  episodes  airing            studio  \\\n",
      "0        Inu x Boku SS   TV     Manga        12   False  David Production   \n",
      "1     Seto no Hanayome   TV     Manga        26   False             Gonzo   \n",
      "2   Shugo Chara!! Doki   TV     Manga        51   False         Satelight   \n",
      "3        Princess Tutu   TV  Original        38   False    Hal Film Maker   \n",
      "4  Bakuman. 3rd Season   TV     Manga        25   False         J.C.Staff   \n",
      "\n",
      "   score  members  favorites  \n",
      "0   7.63   283882       2809  \n",
      "1   7.89   204003       2579  \n",
      "2   7.55    70127        802  \n",
      "3   8.21    93312       3344  \n",
      "4   8.67   182765       2082  \n"
     ]
    }
   ],
   "source": [
    "df_Union = pd.merge(df_eliminar1, df_eliminar2, on='title', how='inner')\n",
    "print(df_Union.head())"
   ]
  },
  {
   "cell_type": "markdown",
   "metadata": {
    "id": "kjH0Q24TPYEo"
   },
   "source": [
    "## Obtengamos información de los datos"
   ]
  },
  {
   "cell_type": "markdown",
   "metadata": {
    "id": "EsCmiI_6PYEp"
   },
   "source": [
    "Ahora tenemos que entender un poco más sobre los datos que tenemos, para que el equipo de contenido pueda tomar decisiones informadas.\n",
    "\n",
    "Para esto, tu jefe te ha solicitado las siguientes tareas:"
   ]
  },
  {
   "cell_type": "markdown",
   "metadata": {
    "id": "NVskluTWyrA0"
   },
   "source": [
    "8. \"Necesitamos saber cuales son los animes más populares.\" Para esto, **entrega los 5 animes con más miembros** (número de usuarios que tienen el anime en su lista)."
   ]
  },
  {
   "cell_type": "code",
   "execution_count": 22,
   "metadata": {
    "id": "9u0I_Ip3zT0B"
   },
   "outputs": [
    {
     "name": "stdout",
     "output_type": "stream",
     "text": [
      "                                 title type       source  episodes  airing  \\\n",
      "4846                        Death Note   TV        Manga        37   False   \n",
      "4974                Shingeki no Kyojin   TV        Manga        25   False   \n",
      "3826                  Sword Art Online   TV  Light novel        25   False   \n",
      "1602  Fullmetal Alchemist: Brotherhood   TV        Manga        64   False   \n",
      "5393                     One Punch Man   TV    Web manga        12   False   \n",
      "\n",
      "            studio  score  members  favorites  \n",
      "4846      Madhouse   8.67  1456378      88696  \n",
      "4974    Wit Studio   8.49  1345842      64032  \n",
      "3826  A-1 Pictures   7.64  1301616      50042  \n",
      "1602         Bones   9.25  1199091     106895  \n",
      "5393      Madhouse   8.73  1020754      30747  \n"
     ]
    }
   ],
   "source": [
    "Populares = df_Union.sort_values(by=\"members\", ascending=False).head()\n",
    "print(Populares)"
   ]
  },
  {
   "cell_type": "markdown",
   "metadata": {
    "id": "fchx0Kd3PYEq"
   },
   "source": [
    "9. Esta información puede ser muy valiosa para identificar alguna característica en común de los animes más populares. **Realiza una observación de alguna característica en común, o algo relevante, de los 5 animes** obtenidos en la pregunta anterior."
   ]
  },
  {
   "cell_type": "markdown",
   "metadata": {
    "id": "zU4ypkCaPYEr"
   },
   "source": [
    "R: Los 5 animes más populares son tipo TV y 3 corresponden a manga junto a uno que corresponde a web manga por lo que puede ser relevante."
   ]
  },
  {
   "cell_type": "markdown",
   "metadata": {
    "id": "VfecebgFzUNT"
   },
   "source": [
    "10. Además de un anime popular, el equipo te dice que quiere hacer un anime de mucha calidad, osea, que sea muy bien evaluado, en particular buscan que tenga un score mayor a 9.0. **Entrega los con score mayor a 9.0**."
   ]
  },
  {
   "cell_type": "code",
   "execution_count": 24,
   "metadata": {
    "id": "jSan9NG5PYEs"
   },
   "outputs": [
    {
     "name": "stdout",
     "output_type": "stream",
     "text": [
      "                                                  title   type        source  \\\n",
      "287                              Hunter x Hunter (2011)     TV         Manga   \n",
      "666                                      Kimi no Na wa.  Movie      Original   \n",
      "803                                            Gintama°     TV         Manga   \n",
      "839                          3-gatsu no Lion 2nd Season     TV         Manga   \n",
      "1602                   Fullmetal Alchemist: Brotherhood     TV         Manga   \n",
      "1733                               Clannad: After Story     TV  Visual novel   \n",
      "1866                                        Steins;Gate     TV  Visual novel   \n",
      "3519                           Gintama&#039;: Enchousen     TV         Manga   \n",
      "3755                                      Steins;Gate 0     TV  Visual novel   \n",
      "3998                                            Gintama     TV         Manga   \n",
      "4010                                     Koe no Katachi  Movie         Manga   \n",
      "4043                         Owarimonogatari 2nd Season     TV   Light novel   \n",
      "5481                                      Gintama&#039;     TV         Manga   \n",
      "6665                                           Gintama.     TV         Manga   \n",
      "7788                               Ginga Eiyuu Densetsu    OVA         Novel   \n",
      "8087  Gintama Movie 2: Kanketsu-hen - Yorozuya yo Ei...  Movie         Manga   \n",
      "8528                            Dokidoki Little Ooyasan    OVA         Other   \n",
      "\n",
      "      episodes  airing                 studio  score  members  favorites  \n",
      "287        148   False               Madhouse   9.11   720920      64375  \n",
      "666          1   False       CoMix Wave Films   9.19   730076      34912  \n",
      "803         51   False  Bandai Namco Pictures   9.15   198744       5668  \n",
      "839         22   False                  Shaft   9.10    85744       2257  \n",
      "1602        64   False                  Bones   9.25  1199091     106895  \n",
      "1733        24   False        Kyoto Animation   9.01   607387      47380  \n",
      "1866        24   False              White Fox   9.14  1010330      92423  \n",
      "3519        13   False                Sunrise   9.07   123572       1509  \n",
      "3755        23    True              White Fox   9.15   223989       1882  \n",
      "3998       201   False                Sunrise   9.01   459031      33781  \n",
      "4010         1   False        Kyoto Animation   9.04   511915      19815  \n",
      "4043         7   False                  Shaft   9.02   113928       2432  \n",
      "5481        51   False                Sunrise   9.11   215527       4549  \n",
      "6665        12   False  Bandai Namco Pictures   9.02    91695       1237  \n",
      "7788       110   False                Artland   9.11   124993       8567  \n",
      "8087         1   False                Sunrise   9.04   105458       1395  \n",
      "8528         0    True    Collaboration Works   9.52      357         21  \n"
     ]
    }
   ],
   "source": [
    "animeCalidad = df_Union[df_Union[\"score\"]>9.0]\n",
    "print(animeCalidad)"
   ]
  },
  {
   "cell_type": "markdown",
   "metadata": {
    "id": "reoFwP6RzZak"
   },
   "source": [
    "11. Ahora tu equipo desea analizar a la competencia. Para esto **entrega los 5 estudios de anime con mejor score promedio entre sus animes**."
   ]
  },
  {
   "cell_type": "code",
   "execution_count": 32,
   "metadata": {
    "id": "ZU3fiC7GzZDy"
   },
   "outputs": [
    {
     "name": "stdout",
     "output_type": "stream",
     "text": [
      "studio\n",
      "Odolttogi             7.870000\n",
      "B&amp;T               7.820000\n",
      "Fuji TV               7.730000\n",
      "Studio Rikka          7.688571\n",
      "D &amp; D Pictures    7.635000\n",
      "Name: score, dtype: float64\n"
     ]
    }
   ],
   "source": [
    "animeEstudios = df_Union.groupby(\"studio\")[\"score\"].mean().sort_values(ascending=False)\n",
    "print(animeEstudios.head())"
   ]
  },
  {
   "cell_type": "markdown",
   "metadata": {
    "id": "byjN8fByPYEt"
   },
   "source": [
    "12. Después de que te preguntaran por los animes que tienen mejor score, se te ocurre crear una columna que indique cuales animes son \"buenos\". Para esto, el área de producto te indica que un \"mal\" anime tiene score bajo 4.0, uno \"intermedio\" tiene score entre 4.0 y 8.0, y uno \"bueno\" tiene score sobre 8.0. **Usa el método apply para crear una nueva columna \"quality\" que tenga como valor \"Malo\", \"Intermedio\" o \"Bueno\" según la definición anterior. Luego, muestra los 5 primeros registros**"
   ]
  },
  {
   "cell_type": "code",
   "execution_count": 33,
   "metadata": {
    "id": "bqQZfSbbPYEt"
   },
   "outputs": [
    {
     "name": "stdout",
     "output_type": "stream",
     "text": [
      "                 title type    source  episodes  airing            studio  \\\n",
      "0        Inu x Boku SS   TV     Manga        12   False  David Production   \n",
      "1     Seto no Hanayome   TV     Manga        26   False             Gonzo   \n",
      "2   Shugo Chara!! Doki   TV     Manga        51   False         Satelight   \n",
      "3        Princess Tutu   TV  Original        38   False    Hal Film Maker   \n",
      "4  Bakuman. 3rd Season   TV     Manga        25   False         J.C.Staff   \n",
      "\n",
      "   score  members  favorites     quality  \n",
      "0   7.63   283882       2809  Intermedio  \n",
      "1   7.89   204003       2579  Intermedio  \n",
      "2   7.55    70127        802  Intermedio  \n",
      "3   8.21    93312       3344       Bueno  \n",
      "4   8.67   182765       2082       Bueno  \n"
     ]
    }
   ],
   "source": [
    "def calidad(score):\n",
    "    if score < 4.0:\n",
    "        return \"Malo\"\n",
    "    elif score < 8.0:\n",
    "        return \"Intermedio\"\n",
    "    else:\n",
    "        return \"Bueno\"\n",
    "\n",
    "df_Union[\"quality\"] = df_Union[\"score\"].apply(calidad)\n",
    "print(df_Union.head())"
   ]
  },
  {
   "cell_type": "markdown",
   "metadata": {
    "id": "Mq6A1U6jPYEt"
   },
   "source": [
    "13. Rodrigo, un miembro del equipo, te dice: \"Si deseamos que la gente nos tenga en sus favoritos, ¿qué tipo de anime deberíamos hacer? Para cada tipo de anime (TV, OVA, Movie, etc) podríamos sumar la cantidad de favoritos, y hacer el tipo de anime que tenga la suma más grande\". Sin embargo, tú te percatas de que **hay un problema con lo que él propone**. ¿Cuál es este problema?"
   ]
  },
  {
   "cell_type": "markdown",
   "metadata": {
    "id": "buxgdOzUPYEu"
   },
   "source": [
    "R:"
   ]
  },
  {
   "cell_type": "markdown",
   "metadata": {
    "id": "ZVxg6JBjPYEu"
   },
   "source": [
    "14. Para mostrarle a Rodrigo el problema con la solución que él propuso, **entrega la cantidad de animes por cada tipo**."
   ]
  },
  {
   "cell_type": "code",
   "execution_count": null,
   "metadata": {
    "id": "Ery5eUccPYEv"
   },
   "outputs": [],
   "source": []
  },
  {
   "cell_type": "markdown",
   "metadata": {
    "id": "n45zk1YVzYNx"
   },
   "source": [
    "15. Tu jefe te dice que tuvo una visión en un sueño, te dice que sabe como hacer el anime más famoso. Quiere hacer un anime de tipo OVA, donde la fuente (columna source) sea Novel. **Entrega las columnas title, members, favorites, y quality de todos los animes que cumplan con estas características**."
   ]
  },
  {
   "cell_type": "code",
   "execution_count": null,
   "metadata": {
    "id": "sy1OmkRBzn0K"
   },
   "outputs": [],
   "source": []
  },
  {
   "cell_type": "markdown",
   "metadata": {
    "id": "H-QaCsPzPYEw"
   },
   "source": [
    "16. Para verificar si tu jefe tiene sueños extraños, o si realmente tiene una visión, **calcula y muestra el promedio de los miembros, el promedio de los favoritos, y la categoría de quality más repetida** de los animes obtenidos en la pregunta anterior."
   ]
  },
  {
   "cell_type": "code",
   "execution_count": null,
   "metadata": {
    "id": "PeAuASNSPYEx"
   },
   "outputs": [],
   "source": []
  },
  {
   "cell_type": "markdown",
   "metadata": {
    "id": "xkbw4vcNRKEg"
   },
   "source": [
    "# Visualicemos los datos"
   ]
  },
  {
   "cell_type": "markdown",
   "metadata": {
    "id": "SUdmMgMYRUhi"
   },
   "source": [
    "17. Muestre el histograma de todas las puntuaciones de animes"
   ]
  },
  {
   "cell_type": "code",
   "execution_count": null,
   "metadata": {
    "id": "TgB3MS58SU7r"
   },
   "outputs": [],
   "source": []
  },
  {
   "cell_type": "markdown",
   "metadata": {
    "id": "tVDvUZK1SUi2"
   },
   "source": [
    "18. Muestre la densidad de puntajes para los principales tipos de anime (TV, OVA, Movie)"
   ]
  },
  {
   "cell_type": "code",
   "execution_count": null,
   "metadata": {
    "id": "MSm5_YoWToLA"
   },
   "outputs": [],
   "source": []
  },
  {
   "cell_type": "markdown",
   "metadata": {
    "id": "CcwK9kniTo_r"
   },
   "source": [
    "19. ¿Cuál tipo de anime es más exitoso? ¿Se está tomando en cuenta la cantidad de animes por tipo al afirmar eso?"
   ]
  },
  {
   "cell_type": "markdown",
   "metadata": {
    "id": "zjyA38rqVBC0"
   },
   "source": [
    "R:"
   ]
  },
  {
   "cell_type": "markdown",
   "metadata": {
    "id": "0AcGLVkczvU1"
   },
   "source": [
    "Y eso es todo por hoy :)\n"
   ]
  },
  {
   "cell_type": "markdown",
   "metadata": {
    "id": "rR_plUgOz2kN"
   },
   "source": [
    "![](https://i.imgur.com/ghKLs78.jpeg)"
   ]
  }
 ],
 "metadata": {
  "colab": {
   "provenance": []
  },
  "kernelspec": {
   "display_name": "base",
   "language": "python",
   "name": "python3"
  },
  "language_info": {
   "codemirror_mode": {
    "name": "ipython",
    "version": 3
   },
   "file_extension": ".py",
   "mimetype": "text/x-python",
   "name": "python",
   "nbconvert_exporter": "python",
   "pygments_lexer": "ipython3",
   "version": "3.13.5"
  }
 },
 "nbformat": 4,
 "nbformat_minor": 0
}
